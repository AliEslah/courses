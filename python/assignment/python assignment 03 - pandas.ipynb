{
 "cells": [
  {
   "cell_type": "markdown",
   "id": "ccf474e7",
   "metadata": {},
   "source": [
    "# data-hub:\n",
    "\n",
    "*   [Website](https://data-hub.ir/)\n",
    "*   [Youtube](https://www.youtube.com/channel/UCrBcbQWcD0ortWqHAlP94ug)\n",
    "*   [Github](https://github.com/datahub-ir)\n",
    "*   [Linkedin](https://www.linkedin.com/company/data-hub-ir)\n",
    "*   Telegram Channel: @**data_hub_ir**\n",
    "*   Instagram Page: @**data_hub_ir**\n",
    "*   Telegram Group:    @**data_jobs**"
   ]
  },
  {
   "cell_type": "markdown",
   "id": "0e12574a",
   "metadata": {},
   "source": [
    "<div id=\"section1\"   dir='rtl'>\n",
    "    <h3>\n",
    "تمرین جلسه سوم دوره پایتون    </h3>\n",
    "<p dir='rtl'>\n",
    "    \n",
    "    1. معمولا سؤالات از آسان به سخت و اغلب تحلیلی هستند.  \n",
    "\n",
    "    2. در حد امکان لطفاً برای حل سؤالات از اینترنت (کپی و پیست) استفاده نکنید، لطفاً از دیگران کمک نگیرید.\n",
    "\n",
    "    3. حل ناقص یک سؤال برای ما ارزش بیشتری نسبت به تکمیل سؤال به کمک دیگران دارد. هدف یادگیری است و بحث نمره مطرح نیست.\n",
    "\n",
    "    4. مهم‌ترین قسمت حل سؤالات تمرکز و توجه به راه‌حل مسئله و پیداکردن بهینه‌ترین روش است نه قسمت کدنویسی آن.\n",
    "\n",
    "    5. انجام تکالیف ضروری است ولی فعلاً نیازی به ارسال جواب‌ها نیست. در آخر دوره کارآموزی و پس از اتمام پروژه نهایی، باید تمامی فایل‌های مربوط به تکالیف و پروژه را برایمان ارسال کنید.\n",
    "\n",
    "    6. در جلسه آنلاین به‌صورت تصادفی بعضی از سؤالات تمرین ممکن است پرسیده شود پس بادقت به حل آن بپردازید.\n",
    "\n",
    "    7. از الان تلاش کنید مرتب کدنویسی کنید. اسامی متغیرها را معنادار انتخاب کنید. تمیزی کد شما، نشان از حرفه‌ای بودن شماست.\n",
    "\n",
    "    8. تحت هیچ شرایط جواب خود را برای دیگران ارسال نکنید.\n",
    "\n",
    "    9. در صورت ناتوانی از حل هر سؤال و قبل از پرسش از دیگران، لطفاً به ویدئو همان جلسه مراجعه کنید و مطالب را مرور کنید.\n",
    "\n",
    "    10. در صورت وجود ابهام یا سؤال در مورد هر قسمت لطفاً به فروم وب‌سایت  مراجعه کنید و در انجمن مربوطه، سؤالات خود را مطرح کنید.\n",
    "    \n",
    "</p>\n",
    "</div>\n",
    "\n",
    "https://data-hub.ir/community"
   ]
  },
  {
   "cell_type": "markdown",
   "id": "e716d0fa",
   "metadata": {},
   "source": [
    "<div id=\"section1\" dir='rtl'>\n",
    "تمرین اول: تابعی بنویسید که ترتیب ستون های یک دیتافریم را برعکس کند.\n",
    "    \n",
    "    توجه: اجازه استفاده از تابع آماده وجود ندارد\n",
    "</div>"
   ]
  },
  {
   "cell_type": "code",
   "execution_count": null,
   "id": "325299d5",
   "metadata": {},
   "outputs": [],
   "source": []
  },
  {
   "cell_type": "markdown",
   "id": "2219c01f",
   "metadata": {},
   "source": [
    "<div id=\"section1\" dir='rtl'>\n",
    "    تمرین دوم: برنامه ای بنویسید که مقادیر ستون از نوع string را گرفته و به ازای کاراکترهای هر ردیف، ستون جدید ایجاد کند.\n",
    "      \n",
    "</div>"
   ]
  },
  {
   "cell_type": "code",
   "execution_count": 11,
   "id": "29a803ee",
   "metadata": {},
   "outputs": [
    {
     "data": {
      "text/html": [
       "<div>\n",
       "<style scoped>\n",
       "    .dataframe tbody tr th:only-of-type {\n",
       "        vertical-align: middle;\n",
       "    }\n",
       "\n",
       "    .dataframe tbody tr th {\n",
       "        vertical-align: top;\n",
       "    }\n",
       "\n",
       "    .dataframe thead th {\n",
       "        text-align: right;\n",
       "    }\n",
       "</style>\n",
       "<table border=\"1\" class=\"dataframe\">\n",
       "  <thead>\n",
       "    <tr style=\"text-align: right;\">\n",
       "      <th></th>\n",
       "      <th>0</th>\n",
       "      <th>1</th>\n",
       "      <th>2</th>\n",
       "      <th>3</th>\n",
       "    </tr>\n",
       "  </thead>\n",
       "  <tbody>\n",
       "    <tr>\n",
       "      <th>0</th>\n",
       "      <td>aab</td>\n",
       "      <td>a</td>\n",
       "      <td>a</td>\n",
       "      <td>b</td>\n",
       "    </tr>\n",
       "    <tr>\n",
       "      <th>1</th>\n",
       "      <td>ear</td>\n",
       "      <td>e</td>\n",
       "      <td>a</td>\n",
       "      <td>r</td>\n",
       "    </tr>\n",
       "    <tr>\n",
       "      <th>2</th>\n",
       "      <td>bb</td>\n",
       "      <td>b</td>\n",
       "      <td>b</td>\n",
       "      <td>None</td>\n",
       "    </tr>\n",
       "  </tbody>\n",
       "</table>\n",
       "</div>"
      ],
      "text/plain": [
       "     0  1  2     3\n",
       "0  aab  a  a     b\n",
       "1  ear  e  a     r\n",
       "2   bb  b  b  None"
      ]
     },
     "execution_count": 11,
     "metadata": {},
     "output_type": "execute_result"
    }
   ],
   "source": [
    "import pandas as pd\n",
    "df = pd.DataFrame([['aab', 'a', 'a', 'b'], \n",
    "                   ['ear', 'e', 'a', 'r'], \n",
    "                   ['bb', 'b', 'b']])\n",
    "df"
   ]
  },
  {
   "cell_type": "code",
   "execution_count": null,
   "id": "529c1917",
   "metadata": {},
   "outputs": [],
   "source": []
  },
  {
   "cell_type": "markdown",
   "id": "20d3d319",
   "metadata": {},
   "source": [
    "<div id=\"section1\" dir='rtl'>\n",
    "تمرین سوم:  ردیف های یک دیتافریم را معکوس کنید.\n",
    "    \n",
    "</div>"
   ]
  },
  {
   "cell_type": "code",
   "execution_count": null,
   "id": "f08335cd",
   "metadata": {},
   "outputs": [],
   "source": []
  },
  {
   "cell_type": "markdown",
   "id": "4f32eed6",
   "metadata": {},
   "source": [
    "<div id=\"section1\" dir='rtl'>\n",
    "تمرین چهارم: بهینه ترین و سریع ترین روش iterate روی یک دیتافریم چیست؟\n",
    "   با یک مثال نشان دهید روش پیشنهادی شما بهترین است.\n",
    "</div>"
   ]
  },
  {
   "cell_type": "code",
   "execution_count": null,
   "id": "c409d4c4",
   "metadata": {},
   "outputs": [],
   "source": []
  },
  {
   "cell_type": "markdown",
   "id": "e72fd304",
   "metadata": {},
   "source": [
    "<div id=\"section1\" dir='rtl'>\n",
    " تمرین پنجم: ابتدا بررسی کنید تابع زیر چه کاری می کند سپس یک تابع بنویسید که یک دیتافریم گرفته و کاری مشابه با تابع زیر ولی با روشی متفاوت را انجام دهد.  \n",
    "</div>"
   ]
  },
  {
   "cell_type": "code",
   "execution_count": 14,
   "id": "608530b0",
   "metadata": {},
   "outputs": [
    {
     "data": {
      "text/plain": [
       "(array([[10, 20, 30],\n",
       "        [20, 30, 40],\n",
       "        [30, 40, 50],\n",
       "        [40, 50, 60],\n",
       "        [50, 60, 70],\n",
       "        [60, 70, 80]]),\n",
       " array([40, 50, 60, 70, 80, 90]))"
      ]
     },
     "execution_count": 14,
     "metadata": {},
     "output_type": "execute_result"
    }
   ],
   "source": [
    "from numpy import array\n",
    "def split_sequence(sequence, n_steps):\n",
    "\tX, y = list(), list()\n",
    "\tfor i in range(len(sequence)):\n",
    "\t\t# find the end of this pattern\n",
    "\t\tend_ix = i + n_steps\n",
    "\t\t# check if we are beyond the sequence\n",
    "\t\tif end_ix > len(sequence)-1:\n",
    "\t\t\tbreak\n",
    "\t\t# gather input and output parts of the pattern\n",
    "\t\tseq_x, seq_y = sequence[i:end_ix], sequence[end_ix]\n",
    "\t\tX.append(seq_x)\n",
    "\t\ty.append(seq_y)\n",
    "\treturn array(X), array(y)\n",
    " \n",
    "# define input sequence\n",
    "raw_seq = [10, 20, 30, 40, 50, 60, 70, 80, 90]\n",
    "split_sequence(raw_seq, 3)"
   ]
  },
  {
   "cell_type": "code",
   "execution_count": null,
   "id": "5865eb1f",
   "metadata": {},
   "outputs": [],
   "source": []
  },
  {
   "cell_type": "markdown",
   "id": "48af5d8d",
   "metadata": {},
   "source": [
    "<div id=\"section1\" dir='rtl'>\n",
    " تمرین ششم: یک تابع بنویسید که ادرس یک فولدر را گرفته و سپس فقط فایل های اکسل داخل ان را پیدا کرده و داخل یک دیتافریم بخواند و در نهایت تمامی دیتافریم ها با هم ترکیب کند. \n",
    "</div>"
   ]
  },
  {
   "cell_type": "code",
   "execution_count": null,
   "id": "6bc58d57",
   "metadata": {},
   "outputs": [],
   "source": []
  },
  {
   "cell_type": "markdown",
   "id": "bfc0f0c2",
   "metadata": {},
   "source": [
    "<div id=\"section1\" dir='rtl'>\n",
    " تمرین هفتم: تابعی بنویسد که یک فایل اکسل گرفته و سپس آن را به پنج فایل اکسل مساوی تبدیل کند و هر پنج فایل جدید را در  آدرس دلخواه ذخیره کند.\n",
    "</div>"
   ]
  },
  {
   "cell_type": "code",
   "execution_count": null,
   "id": "c8b6f9a8",
   "metadata": {},
   "outputs": [],
   "source": []
  },
  {
   "cell_type": "markdown",
   "id": "6bc9367f",
   "metadata": {},
   "source": [
    "<div id=\"section1\" dir='rtl'>\n",
    " تمرین هشتم: یک دیتافریم با ابعاد 10 میلیون سطر و 1000 ستون داریم. بهینه ترین روش ذخیره آن روی هارد دیسک چیست؟ هم حافظه کمتری مصرف کند و هم سریع ذخیره شود. لطفا دلایل خود را تایپ کنید.\n",
    "    \n",
    "</div>\n"
   ]
  },
  {
   "cell_type": "code",
   "execution_count": null,
   "id": "395d8bdf",
   "metadata": {},
   "outputs": [],
   "source": []
  },
  {
   "cell_type": "markdown",
   "id": "6bab36dd",
   "metadata": {},
   "source": [
    "<div id=\"section1\" dir='rtl'>\n",
    " تمرین نهم: برنامه ای بنویسید که یک دیتافریم را دریافت کرده و به کمک apply function مقادیر سه ستون اول را شبیه به شکل زیر ترکیب کند.\n",
    "</div>"
   ]
  },
  {
   "cell_type": "code",
   "execution_count": 16,
   "id": "34361bc6",
   "metadata": {},
   "outputs": [
    {
     "data": {
      "text/html": [
       "<div>\n",
       "<style scoped>\n",
       "    .dataframe tbody tr th:only-of-type {\n",
       "        vertical-align: middle;\n",
       "    }\n",
       "\n",
       "    .dataframe tbody tr th {\n",
       "        vertical-align: top;\n",
       "    }\n",
       "\n",
       "    .dataframe thead th {\n",
       "        text-align: right;\n",
       "    }\n",
       "</style>\n",
       "<table border=\"1\" class=\"dataframe\">\n",
       "  <thead>\n",
       "    <tr style=\"text-align: right;\">\n",
       "      <th></th>\n",
       "      <th>name1</th>\n",
       "      <th>name2</th>\n",
       "      <th>name3</th>\n",
       "      <th>combination</th>\n",
       "    </tr>\n",
       "  </thead>\n",
       "  <tbody>\n",
       "    <tr>\n",
       "      <th>0</th>\n",
       "      <td>a</td>\n",
       "      <td>e</td>\n",
       "      <td>h</td>\n",
       "      <td>hae</td>\n",
       "    </tr>\n",
       "    <tr>\n",
       "      <th>1</th>\n",
       "      <td>b</td>\n",
       "      <td>f</td>\n",
       "      <td>i</td>\n",
       "      <td>ibf</td>\n",
       "    </tr>\n",
       "    <tr>\n",
       "      <th>2</th>\n",
       "      <td>c</td>\n",
       "      <td>g</td>\n",
       "      <td>j</td>\n",
       "      <td>jcg</td>\n",
       "    </tr>\n",
       "  </tbody>\n",
       "</table>\n",
       "</div>"
      ],
      "text/plain": [
       "  name1 name2 name3 combination\n",
       "0     a     e     h         hae\n",
       "1     b     f     i         ibf\n",
       "2     c     g     j         jcg"
      ]
     },
     "execution_count": 16,
     "metadata": {},
     "output_type": "execute_result"
    }
   ],
   "source": [
    "df = pd.DataFrame([['a', 'e', 'h', 'hae'], \n",
    "                   ['b', 'f', 'i', 'ibf'], \n",
    "                   ['c', 'g', 'j', 'jcg']])\n",
    "df.columns = ['name1', 'name2', 'name3', 'combination']\n",
    "df"
   ]
  },
  {
   "cell_type": "code",
   "execution_count": null,
   "id": "27d40cb3",
   "metadata": {},
   "outputs": [],
   "source": []
  },
  {
   "cell_type": "markdown",
   "id": "d56e5d50",
   "metadata": {},
   "source": [
    "<div id=\"section1\" dir='rtl'>\n",
    " تمرین دهم: ابتدا بررسی کنید \n",
    "    pivot \n",
    "    چیست سپس یک مثال از آن را روی یک دیتافریم دلخواه اجرا کنید.\n",
    "</div>"
   ]
  },
  {
   "cell_type": "code",
   "execution_count": null,
   "id": "345b6de9",
   "metadata": {},
   "outputs": [],
   "source": []
  },
  {
   "cell_type": "code",
   "execution_count": null,
   "id": "f26ab08c",
   "metadata": {},
   "outputs": [],
   "source": []
  }
 ],
 "metadata": {
  "kernelspec": {
   "display_name": "Python 3 (ipykernel)",
   "language": "python",
   "name": "python3"
  },
  "language_info": {
   "codemirror_mode": {
    "name": "ipython",
    "version": 3
   },
   "file_extension": ".py",
   "mimetype": "text/x-python",
   "name": "python",
   "nbconvert_exporter": "python",
   "pygments_lexer": "ipython3",
   "version": "3.9.6"
  }
 },
 "nbformat": 4,
 "nbformat_minor": 5
}
