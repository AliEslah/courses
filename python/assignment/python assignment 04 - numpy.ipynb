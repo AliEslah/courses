{
 "cells": [
  {
   "cell_type": "markdown",
   "id": "ccf474e7",
   "metadata": {},
   "source": [
    "# data-hub:\n",
    "\n",
    "*   [Website](https://data-hub.ir/)\n",
    "*   [Youtube](https://www.youtube.com/channel/UCrBcbQWcD0ortWqHAlP94ug)\n",
    "*   [Github](https://github.com/datahub-ir)\n",
    "*   [Linkedin](https://www.linkedin.com/company/data-hub-ir)\n",
    "*   Telegram Channel: @**data_hub_ir**\n",
    "*   Instagram Page: @**data_hub_ir**\n",
    "*   Telegram Group:    @**data_jobs**"
   ]
  },
  {
   "cell_type": "markdown",
   "id": "0e12574a",
   "metadata": {},
   "source": [
    "<div id=\"section1\"   dir='rtl'>\n",
    "    <h3>\n",
    "تمرین جلسه چهارم دوره پایتون    </h3>\n",
    "<p dir='rtl'>\n",
    "    \n",
    "    1. معمولا سؤالات از آسان به سخت و اغلب تحلیلی هستند.  \n",
    "\n",
    "    2. در حد امکان لطفاً برای حل سؤالات از اینترنت (کپی و پیست) استفاده نکنید، لطفاً از دیگران کمک نگیرید.\n",
    "\n",
    "    3. حل ناقص یک سؤال برای ما ارزش بیشتری نسبت به تکمیل سؤال به کمک دیگران دارد. هدف یادگیری است و بحث نمره مطرح نیست.\n",
    "\n",
    "    4. مهم‌ترین قسمت حل سؤالات تمرکز و توجه به راه‌حل مسئله و پیداکردن بهینه‌ترین روش است نه قسمت کدنویسی آن.\n",
    "\n",
    "    5. انجام تکالیف ضروری است ولی فعلاً نیازی به ارسال جواب‌ها نیست. در آخر دوره کارآموزی و پس از اتمام پروژه نهایی، باید تمامی فایل‌های مربوط به تکالیف و پروژه را برایمان ارسال کنید.\n",
    "\n",
    "    6. در جلسه آنلاین به‌صورت تصادفی بعضی از سؤالات تمرین ممکن است پرسیده شود پس بادقت به حل آن بپردازید.\n",
    "\n",
    "    7. از الان تلاش کنید مرتب کدنویسی کنید. اسامی متغیرها را معنادار انتخاب کنید. تمیزی کد شما، نشان از حرفه‌ای بودن شماست.\n",
    "\n",
    "    8. تحت هیچ شرایط جواب خود را برای دیگران ارسال نکنید.\n",
    "\n",
    "    9. در صورت ناتوانی از حل هر سؤال و قبل از پرسش از دیگران، لطفاً به ویدئو همان جلسه مراجعه کنید و مطالب را مرور کنید.\n",
    "\n",
    "    10. در صورت وجود ابهام یا سؤال در مورد هر قسمت لطفاً به فروم وب‌سایت  مراجعه کنید و در انجمن مربوطه، سؤالات خود را مطرح کنید.\n",
    "    \n",
    "</p>\n",
    "</div>\n",
    "\n",
    "https://data-hub.ir/community"
   ]
  },
  {
   "cell_type": "markdown",
   "id": "e716d0fa",
   "metadata": {},
   "source": [
    "<div id=\"section1\" dir='rtl'>\n",
    "تمرین اول: برنامه ای بنویسید که تعداد تکرار یک عنصر دلخواه را در یک NumPy Array پیدا کند.\n",
    "</div>"
   ]
  },
  {
   "cell_type": "code",
   "execution_count": null,
   "id": "325299d5",
   "metadata": {},
   "outputs": [],
   "source": []
  },
  {
   "cell_type": "markdown",
   "id": "2219c01f",
   "metadata": {},
   "source": [
    "<div id=\"section1\" dir='rtl'>\n",
    "    تمرین دوم: چگونه می توان یک Pandas DataFrame را به یک  NumPy Array تبدیل کرد .\n",
    "      \n",
    "</div>"
   ]
  },
  {
   "cell_type": "code",
   "execution_count": null,
   "id": "529c1917",
   "metadata": {},
   "outputs": [],
   "source": []
  },
  {
   "cell_type": "markdown",
   "id": "20d3d319",
   "metadata": {},
   "source": [
    "<div id=\"section1\" dir='rtl'>\n",
    "تمرین سوم: یک آرایه عددی را به یک آرایه از نوع categorical  تبدیل کنید.\n",
    "    \n",
    "</div>"
   ]
  },
  {
   "cell_type": "code",
   "execution_count": null,
   "id": "f08335cd",
   "metadata": {},
   "outputs": [],
   "source": []
  },
  {
   "cell_type": "markdown",
   "id": "4f32eed6",
   "metadata": {},
   "source": [
    "<div id=\"section1\" dir='rtl'>\n",
    "تمرین چهارم: یک NumPy Array را معکوس کنید.\n",
    "</div>"
   ]
  },
  {
   "cell_type": "code",
   "execution_count": null,
   "id": "c409d4c4",
   "metadata": {},
   "outputs": [],
   "source": []
  },
  {
   "cell_type": "markdown",
   "id": "e72fd304",
   "metadata": {},
   "source": [
    "<div id=\"section1\" dir='rtl'>\n",
    " تمرین پنجم: با یک مثال نشان دهید اگر به جای لیست از NumPy Array استفاده کنیم سرعت بیشتر می شود.  \n",
    "</div>"
   ]
  },
  {
   "cell_type": "code",
   "execution_count": null,
   "id": "5865eb1f",
   "metadata": {},
   "outputs": [],
   "source": []
  },
  {
   "cell_type": "code",
   "execution_count": null,
   "id": "345b6de9",
   "metadata": {},
   "outputs": [],
   "source": []
  },
  {
   "cell_type": "code",
   "execution_count": null,
   "id": "f26ab08c",
   "metadata": {},
   "outputs": [],
   "source": []
  }
 ],
 "metadata": {
  "kernelspec": {
   "display_name": "Python 3 (ipykernel)",
   "language": "python",
   "name": "python3"
  },
  "language_info": {
   "codemirror_mode": {
    "name": "ipython",
    "version": 3
   },
   "file_extension": ".py",
   "mimetype": "text/x-python",
   "name": "python",
   "nbconvert_exporter": "python",
   "pygments_lexer": "ipython3",
   "version": "3.9.6"
  }
 },
 "nbformat": 4,
 "nbformat_minor": 5
}
